{
 "cells": [
  {
   "cell_type": "markdown",
   "metadata": {},
   "source": [
    "### 1) If Clause example- Check whether a number is positive, negative or zero."
   ]
  },
  {
   "cell_type": "code",
   "execution_count": 5,
   "metadata": {
    "scrolled": false
   },
   "outputs": [
    {
     "name": "stdout",
     "output_type": "stream",
     "text": [
      "Enter a number: 0\n",
      "Number if Zero\n"
     ]
    }
   ],
   "source": [
    "x = int(input('Enter a number: '))\n",
    "if x < 0:\n",
    "    print('Number is Negative')\n",
    "elif x > 0:\n",
    "    print('Number is Positive')\n",
    "else:\n",
    "    print('Number if Zero')"
   ]
  },
  {
   "cell_type": "markdown",
   "metadata": {},
   "source": [
    "<b>Some examples of Pythonic ways</b>"
   ]
  },
  {
   "cell_type": "code",
   "execution_count": 16,
   "metadata": {},
   "outputs": [
    {
     "name": "stdout",
     "output_type": "stream",
     "text": [
      "True\n",
      "True\n"
     ]
    }
   ],
   "source": [
    "x = True\n",
    "# Pythonic way \n",
    "if x:\n",
    "    print(x)\n",
    "    \n",
    "# Don't use the following way. It's a bad practice\n",
    "if x is True:\n",
    "    print(x)\n",
    "    \n"
   ]
  },
  {
   "cell_type": "markdown",
   "metadata": {},
   "source": [
    "### 2) For loop\n",
    "### 2.1) Print a range of numbers"
   ]
  },
  {
   "cell_type": "code",
   "execution_count": 6,
   "metadata": {
    "scrolled": true
   },
   "outputs": [
    {
     "name": "stdout",
     "output_type": "stream",
     "text": [
      "0\n",
      "1\n",
      "2\n",
      "3\n",
      "4\n",
      "The loop ended\n"
     ]
    }
   ],
   "source": [
    "for i in range(0, 5):\n",
    "    print(i)\n",
    "else:\n",
    "    print('The loop ended')"
   ]
  },
  {
   "cell_type": "markdown",
   "metadata": {},
   "source": [
    "### 2.2) Looping using dictionary as iterable"
   ]
  },
  {
   "cell_type": "code",
   "execution_count": 10,
   "metadata": {
    "scrolled": true
   },
   "outputs": [
    {
     "name": "stdout",
     "output_type": "stream",
     "text": [
      "Name is  John  and age is  24\n",
      "Name is  Mari  and age is  19\n",
      "Name is  Alexender  and age is  30\n",
      "Name is  Henry  and age is  15\n"
     ]
    }
   ],
   "source": [
    "dict_x = {'John': 24, 'Mari': 19, 'Alexender': 30, 'Henry': 15}\n",
    "for i in dict_x.keys():\n",
    "    print('Name is ', i, ' and age is ', dict_x[i])"
   ]
  },
  {
   "cell_type": "markdown",
   "metadata": {},
   "source": [
    "### 2.3) Iterating over dictionary using Python's built-in function items()"
   ]
  },
  {
   "cell_type": "code",
   "execution_count": 13,
   "metadata": {
    "scrolled": true
   },
   "outputs": [
    {
     "name": "stdout",
     "output_type": "stream",
     "text": [
      "Name is  John  and age is  24\n",
      "Name is  Mari  and age is  19\n",
      "Name is  Alexender  and age is  30\n",
      "Name is  Henry  and age is  15\n"
     ]
    }
   ],
   "source": [
    "dict_x = {'John': 24, 'Mari': 19, 'Alexender': 30, 'Henry': 15}\n",
    "for key, value in dict_x.items():\n",
    "    print('Name is ', key, ' and age is ', value)"
   ]
  },
  {
   "cell_type": "markdown",
   "metadata": {},
   "source": [
    "### 3) While loop"
   ]
  },
  {
   "cell_type": "code",
   "execution_count": 9,
   "metadata": {},
   "outputs": [
    {
     "name": "stdout",
     "output_type": "stream",
     "text": [
      "count is:  8\n"
     ]
    }
   ],
   "source": [
    "num = 128\n",
    "count = 0\n",
    "while num > 0:\n",
    "    num = num // 2\n",
    "    count += 1\n",
    "print('count is: ', count)"
   ]
  },
  {
   "cell_type": "markdown",
   "metadata": {},
   "source": [
    "### 4) Example of continue statement"
   ]
  },
  {
   "cell_type": "code",
   "execution_count": 1,
   "metadata": {},
   "outputs": [
    {
     "name": "stdout",
     "output_type": "stream",
     "text": [
      "1 3 5 7 9 11 13 15 17 19 "
     ]
    }
   ],
   "source": [
    "for n in range(20):\n",
    "    if n % 2 == 0:\n",
    "        continue\n",
    "    print(n, end=' ')"
   ]
  },
  {
   "cell_type": "markdown",
   "metadata": {},
   "source": [
    "### 5) Example of Break statement"
   ]
  },
  {
   "cell_type": "code",
   "execution_count": 4,
   "metadata": {},
   "outputs": [
    {
     "name": "stdout",
     "output_type": "stream",
     "text": [
      "1\n",
      "2\n"
     ]
    }
   ],
   "source": [
    "a = [1,2,4,6,5]\n",
    "b = 3\n",
    "for i in a:\n",
    "    if i > b:\n",
    "        break\n",
    "    print(i)"
   ]
  },
  {
   "cell_type": "markdown",
   "metadata": {},
   "source": [
    "### 6) Example of Pass statement"
   ]
  },
  {
   "cell_type": "code",
   "execution_count": 7,
   "metadata": {},
   "outputs": [
    {
     "name": "stdout",
     "output_type": "stream",
     "text": [
      "20\n"
     ]
    }
   ],
   "source": [
    "a = 5\n",
    "b = 20\n",
    "c = 2\n",
    "if b > a:\n",
    "    print(b)\n",
    "elif a > c:\n",
    "    pass\n",
    "    "
   ]
  },
  {
   "cell_type": "markdown",
   "metadata": {},
   "source": [
    "### Program to check the age group of person?"
   ]
  },
  {
   "cell_type": "code",
   "execution_count": 15,
   "metadata": {},
   "outputs": [
    {
     "name": "stdout",
     "output_type": "stream",
     "text": [
      "Enter age of person: 30\n",
      "Person is adult\n"
     ]
    }
   ],
   "source": [
    "age = int(input('Enter age of person: '))\n",
    "if age <= 12:\n",
    "    print('Person is a child')\n",
    "elif age > 12 and age < 20:\n",
    "    print('Person is teenager')\n",
    "elif age >= 20 and age <= 40:\n",
    "    print('Person is adult')\n",
    "else:\n",
    "    print(\"Person's age is higher than 40\")"
   ]
  },
  {
   "cell_type": "markdown",
   "metadata": {},
   "source": [
    "### 7) Practice Questions\n",
    "#### Note: There can be more than one ways to solve the same problem."
   ]
  },
  {
   "cell_type": "markdown",
   "metadata": {},
   "source": [
    "<b>Ques1</b>: Take the value of length and breadth of a rectangle from user and check if it is a square or not?"
   ]
  },
  {
   "cell_type": "code",
   "execution_count": 21,
   "metadata": {},
   "outputs": [
    {
     "name": "stdout",
     "output_type": "stream",
     "text": [
      "Enter length (in cm): 2.5\n",
      "Enter Breadth (in cm): 6\n",
      "The rectangle is not a square.\n"
     ]
    }
   ],
   "source": [
    "length = input('Enter length (in cm): ')\n",
    "breadth = input('Enter Breadth (in cm): ')\n",
    "\n",
    "if length == breadth:\n",
    "    print('The rectangle is a square.')\n",
    "else:\n",
    "    print('The rectangle is not a square.')"
   ]
  },
  {
   "cell_type": "markdown",
   "metadata": {},
   "source": [
    "<b>Ques2</b>: Take two integers from user and print greatest among them."
   ]
  },
  {
   "cell_type": "code",
   "execution_count": 20,
   "metadata": {},
   "outputs": [
    {
     "name": "stdout",
     "output_type": "stream",
     "text": [
      "Enter first number: 23\n",
      "Enter second number: 12\n",
      "First Number is greatest.\n"
     ]
    }
   ],
   "source": [
    "num1 = int(input('Enter first number: '))\n",
    "num2 = int(input('Enter second number: '))\n",
    "\n",
    "if num1 > num2:\n",
    "    print('First Number is greatest.')\n",
    "elif num2 > num1:\n",
    "    print('Second number is greatest.')\n",
    "else:\n",
    "    print('Both numbers are equal.')"
   ]
  },
  {
   "cell_type": "markdown",
   "metadata": {},
   "source": [
    "<b>Ques3</b>: Take input of age of 3 people by user and print oldest and youngest among them."
   ]
  },
  {
   "cell_type": "code",
   "execution_count": 22,
   "metadata": {},
   "outputs": [
    {
     "name": "stdout",
     "output_type": "stream",
     "text": [
      "Enter age of first person (in years): 10\n",
      "Enter age of second person (in years): 20\n",
      "Enter age of third person (in years): 30\n",
      "oldest id  30\n"
     ]
    }
   ],
   "source": [
    "first = input('Enter age of first person (in years): ')\n",
    "second = input('Enter age of second person (in years): ')\n",
    "third = input('Enter age of third person (in years): ')\n",
    "\n",
    "if first >= second and first >= third:\n",
    "    print('Oldest is ', first)\n",
    "elif second >= third and second >= first:\n",
    "        print('Oldest is ', second)\n",
    "elif third >= first and third >= second:\n",
    "    print('oldest id ', third)\n",
    "else:\n",
    "    print('All are equal')\n",
    "        "
   ]
  },
  {
   "attachments": {},
   "cell_type": "markdown",
   "metadata": {},
   "source": [
    "<b>Ques4</b>: Write a program to print absolute value of a number entered by user.  For example,<br>\n",
    "                Input = 1, Output = 1 <br>\n",
    "                Input = -1, Output = 1"
   ]
  },
  {
   "cell_type": "code",
   "execution_count": 27,
   "metadata": {},
   "outputs": [
    {
     "name": "stdout",
     "output_type": "stream",
     "text": [
      "Enter an integer: -5\n",
      "5\n"
     ]
    }
   ],
   "source": [
    "num = int(input('Enter an integer: '))\n",
    "if num < 0:\n",
    "    print(num*-1)\n",
    "else:\n",
    "    print(num)"
   ]
  },
  {
   "cell_type": "code",
   "execution_count": 28,
   "metadata": {},
   "outputs": [
    {
     "name": "stdout",
     "output_type": "stream",
     "text": [
      "Enter an integer: -5\n",
      "5\n"
     ]
    }
   ],
   "source": [
    "# Other method\n",
    "\n",
    "num = int(input('Enter an integer: '))\n",
    "if num < 0:\n",
    "    print(abs(num))     # built-in function in Python to take absolute value.\n",
    "else:\n",
    "    print(num)"
   ]
  },
  {
   "attachments": {},
   "cell_type": "markdown",
   "metadata": {},
   "source": [
    "<b>Ques5</b>: A shop will give discount of 10% if the cost of purchased quantity is more than 1000.<br>\n",
    "Ask user for quantity<br>\n",
    "Suppose one unit will cost 100.<br>\n",
    "Judge and print total cost for user.<br>"
   ]
  },
  {
   "cell_type": "code",
   "execution_count": 29,
   "metadata": {},
   "outputs": [
    {
     "name": "stdout",
     "output_type": "stream",
     "text": [
      "Enter quantity: 20\n",
      "Total cost for user:  1800.0\n"
     ]
    }
   ],
   "source": [
    "quantity = float(input('Enter quantity: '))\n",
    "cost_1_quantity = 100\n",
    "total_cost = quantity * cost_1_quantity\n",
    "\n",
    "if total_cost > 1000:\n",
    "    total_cost_after_discount = 0.9 * total_cost\n",
    "    print('Total cost for user: ', total_cost_after_discount)\n",
    "else:\n",
    "    print('Total cost for user: ', total_cost)"
   ]
  },
  {
   "attachments": {},
   "cell_type": "markdown",
   "metadata": {},
   "source": [
    "<b>Ques6:</b> A school has following rules for grading system:<br>\n",
    "Below 25 - F<br>\n",
    "25 to 45   - E<br>\n",
    "45 to 50   - D<br>\n",
    "50 to 60   - C<br>\n",
    "60 to 80   - B<br>\n",
    "Above 80 – A<br>\n",
    "Ask user to enter marks and print the corresponding grade."
   ]
  },
  {
   "cell_type": "code",
   "execution_count": 35,
   "metadata": {},
   "outputs": [
    {
     "name": "stdout",
     "output_type": "stream",
     "text": [
      "Enter marks: 90\n",
      "Grade is A\n"
     ]
    }
   ],
   "source": [
    "marks = float(input('Enter marks: '))\n",
    "\n",
    "if marks < 25:\n",
    "    print('Grade is F')\n",
    "elif marks >= 25 and marks < 45:\n",
    "    print('Grade is E')\n",
    "elif marks >= 45 and marks < 50:\n",
    "    print('Grade is D')\n",
    "elif marks >= 50 and marks < 60:\n",
    "    print('Grade is C')\n",
    "elif marks >= 60 and marks < 80:\n",
    "    print('Grade is B')\n",
    "else:\n",
    "    print('Grade is A')"
   ]
  },
  {
   "attachments": {},
   "cell_type": "markdown",
   "metadata": {},
   "source": [
    "<b>Ques7:</b>A company decided to give bonus of 5% to employee if his/her year of service is more than 5 years. Ask user for their salary and year of service and print the net bonus."
   ]
  },
  {
   "cell_type": "code",
   "execution_count": 37,
   "metadata": {},
   "outputs": [
    {
     "name": "stdout",
     "output_type": "stream",
     "text": [
      "Enter salary: 20000\n",
      "Enter year of service: 6.5\n",
      "Net Bonus:  1000.0\n"
     ]
    }
   ],
   "source": [
    "current_salary = float(input('Enter salary: '))\n",
    "length_of_service = float(input('Enter year of service: '))\n",
    "\n",
    "if length_of_service > 5:\n",
    "    net_bonus = current_salary*0.05\n",
    "    print('Net Bonus: ', net_bonus)\n",
    "else:\n",
    "    print('No net bonus')"
   ]
  },
  {
   "attachments": {},
   "cell_type": "markdown",
   "metadata": {},
   "source": [
    "<b>Ques8:</b> Take the length of three sides of a triangle from user and print the type of triangle.<br>\n",
    "Side1 = Side2 = Side3 then equilateral triangle<br>\n",
    "Side 1, side 2 and side 3 are all different then Scalene triangle<br>\n",
    "If any two sides are equal and third side is not equal then Isosceles triangle.<br>"
   ]
  },
  {
   "cell_type": "code",
   "execution_count": 41,
   "metadata": {},
   "outputs": [
    {
     "name": "stdout",
     "output_type": "stream",
     "text": [
      "Enter first side of triangle: 10\n",
      "Enter second side of triangle: 20\n",
      "Enter third side of triangle: 19\n",
      "Triangle is Scalene\n"
     ]
    }
   ],
   "source": [
    "side1 = float(input('Enter first side of triangle: '))\n",
    "side2 = float(input('Enter second side of triangle: '))\n",
    "side3 = float(input('Enter third side of triangle: '))\n",
    "\n",
    "if side1 == side2:\n",
    "    if side1 == side3:\n",
    "        print('Triangle is Equilateral Triangle')\n",
    "    else:\n",
    "        print('Triangle is Isosceles Triangle')\n",
    "else:\n",
    "    if side1 == side3:\n",
    "        print('Triangle is Isosceles Trianlge')\n",
    "    elif side2 == side3:\n",
    "        print('Triangle is Isosceles Triangle')\n",
    "    else:\n",
    "        print('Triangle is Scalene')\n",
    "\n"
   ]
  },
  {
   "attachments": {},
   "cell_type": "markdown",
   "metadata": {},
   "source": [
    "<b>Ques9:</b> A person is eligible to be US Senator who is at least 30 years old and has been a US citizen for at least 9 years. Write a program which asks user for his/her age and length of citizenship and print out if  person is eligible to be US Senator or not."
   ]
  },
  {
   "cell_type": "code",
   "execution_count": 43,
   "metadata": {},
   "outputs": [
    {
     "name": "stdout",
     "output_type": "stream",
     "text": [
      "Enter age: 45\n",
      "Enter length of citizenship: 8\n",
      "Person is not eligible to be US Senator\n"
     ]
    }
   ],
   "source": [
    "age = float(input('Enter age: '))\n",
    "length_of_citizenship = float(input('Enter length of citizenship: '))\n",
    "\n",
    "if age >= 30 and length_of_citizenship >= 9:\n",
    "    print('Person is eligible to be US Senator')\n",
    "else:\n",
    "    print('Person is not eligible to be US Senator')"
   ]
  },
  {
   "attachments": {},
   "cell_type": "markdown",
   "metadata": {},
   "source": [
    "<b>Ques 10: </b>A student will not be allowed to sit in an examination if his/her attendance is less than 75%. Take the following inputs from the user.<br>\n",
    "Number of classes held<br>\n",
    "Number of classes attended<br>\n",
    "And print percentage of classes attended<br>\n",
    "And also print Is the student allowed to sit in exam or not."
   ]
  },
  {
   "cell_type": "code",
   "execution_count": 48,
   "metadata": {},
   "outputs": [
    {
     "name": "stdout",
     "output_type": "stream",
     "text": [
      "Enter number of classes held: 20\n",
      "Enter number of classes attended: 16\n",
      "Percentage of Classes Attended:  80.0\n",
      "Student is allowed to sit in the exam\n"
     ]
    }
   ],
   "source": [
    "num_classes_held = int(input('Enter number of classes held: '))\n",
    "num_classes_attended = int(input('Enter number of classes attended: '))\n",
    "\n",
    "percentage_classes_attended = (num_classes_attended/num_classes_held)*100\n",
    "print('Percentage of Classes Attended: ', percentage_classes_attended)\n",
    "\n",
    "if percentage_classes_attended < 75:\n",
    "    print('Student is not allowed to sit in the exam')\n",
    "else:\n",
    "    print('Student is allowed to sit in the exam')"
   ]
  }
 ],
 "metadata": {
  "kernelspec": {
   "display_name": "Python 3",
   "language": "python",
   "name": "python3"
  },
  "language_info": {
   "codemirror_mode": {
    "name": "ipython",
    "version": 3
   },
   "file_extension": ".py",
   "mimetype": "text/x-python",
   "name": "python",
   "nbconvert_exporter": "python",
   "pygments_lexer": "ipython3",
   "version": "3.6.6"
  }
 },
 "nbformat": 4,
 "nbformat_minor": 2
}
