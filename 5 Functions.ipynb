{
 "cells": [
  {
   "cell_type": "markdown",
   "metadata": {},
   "source": [
    "### 1) Defining a Function"
   ]
  },
  {
   "cell_type": "code",
   "execution_count": null,
   "metadata": {},
   "outputs": [],
   "source": [
    "def print_me(string):\n",
    "    \"This prints a passed string in this function\"   # optional docstring\n",
    "    print(string)\n",
    "    return"
   ]
  },
  {
   "cell_type": "markdown",
   "metadata": {},
   "source": [
    "### 2) Calling a Function\n",
    "#### 2.1) Function is not returning anything"
   ]
  },
  {
   "cell_type": "code",
   "execution_count": 2,
   "metadata": {},
   "outputs": [
    {
     "name": "stdout",
     "output_type": "stream",
     "text": [
      "I am calling this function first time.\n",
      "I am calling this function second time.\n"
     ]
    }
   ],
   "source": [
    "def print_me(string):\n",
    "    \"This prints a passed string in this function\" \n",
    "    print(string)\n",
    "    return\n",
    "\n",
    "# Calling the function\n",
    "print_me('I am calling this function first time.')      \n",
    "print_me(\"I am calling this function second time.\")     "
   ]
  },
  {
   "cell_type": "markdown",
   "metadata": {},
   "source": [
    "#### 2.2) Function is returning some value"
   ]
  },
  {
   "cell_type": "code",
   "execution_count": 3,
   "metadata": {},
   "outputs": [
    {
     "name": "stdout",
     "output_type": "stream",
     "text": [
      "3\n"
     ]
    }
   ],
   "source": [
    "def add_numbers(a, b):\n",
    "    'This function adds the values'\n",
    "    \n",
    "    c = a + b\n",
    "    return c\n",
    "\n",
    "# Calling the function\n",
    "added_number = add_numbers(1, 2)          # 1 and 2 are the numbers passed to the function\n",
    "print(added_number)"
   ]
  },
  {
   "cell_type": "markdown",
   "metadata": {},
   "source": [
    "#### 2.3) If Body of Function not indented the Python interpreter will produce error"
   ]
  },
  {
   "cell_type": "code",
   "execution_count": 33,
   "metadata": {},
   "outputs": [
    {
     "ename": "IndentationError",
     "evalue": "expected an indented block (<ipython-input-33-7c7dc04355e3>, line 2)",
     "output_type": "error",
     "traceback": [
      "\u001b[1;36m  File \u001b[1;32m\"<ipython-input-33-7c7dc04355e3>\"\u001b[1;36m, line \u001b[1;32m2\u001b[0m\n\u001b[1;33m    print(my_string)\u001b[0m\n\u001b[1;37m        ^\u001b[0m\n\u001b[1;31mIndentationError\u001b[0m\u001b[1;31m:\u001b[0m expected an indented block\n"
     ]
    }
   ],
   "source": [
    "def print_string(my_string):\n",
    "print(my_string)\n",
    "return\n",
    "\n",
    "print_string('Hello World!')"
   ]
  },
  {
   "cell_type": "markdown",
   "metadata": {},
   "source": [
    "### 3) Passing by reference\n",
    "#### 3.1) Passed object is Mutable"
   ]
  },
  {
   "cell_type": "code",
   "execution_count": 4,
   "metadata": {},
   "outputs": [
    {
     "name": "stdout",
     "output_type": "stream",
     "text": [
      "Value inside the function:  [10, 20, 30, [1, 2, 3]]\n",
      "Value outside the function:  [10, 20, 30, [1, 2, 3]]\n"
     ]
    }
   ],
   "source": [
    "def change_value(my_list):\n",
    "    'This function appends value to the passed list'\n",
    "    \n",
    "    my_list.append([1,2,3])\n",
    "    print('Value inside the function: ', my_list)\n",
    "    \n",
    "    return None\n",
    "\n",
    "my_list = [10, 20, 30]\n",
    "\n",
    "# Calling the function\n",
    "change_value(my_list)\n",
    "print('Value outside the function: ', my_list)"
   ]
  },
  {
   "cell_type": "markdown",
   "metadata": {},
   "source": [
    "#### 3.2) Passed object is Immutable"
   ]
  },
  {
   "cell_type": "code",
   "execution_count": 5,
   "metadata": {},
   "outputs": [
    {
     "name": "stdout",
     "output_type": "stream",
     "text": [
      "Value inside the function:  Hello! World\n",
      "Value outside the function:  Hello! \n"
     ]
    }
   ],
   "source": [
    "def change_value(my_string):\n",
    "    'This function appends value to the passed string'\n",
    "    \n",
    "    my_string = my_string + 'World'\n",
    "    print('Value inside the function: ', my_string)\n",
    "    \n",
    "    return None\n",
    "\n",
    "my_string = 'Hello! '\n",
    "\n",
    "# Calling the function\n",
    "change_value(my_string)\n",
    "print('Value outside the function: ', my_string)"
   ]
  },
  {
   "cell_type": "markdown",
   "metadata": {},
   "source": [
    "### 4) Function Arguments\n",
    "#### 4.1) Required Arguments"
   ]
  },
  {
   "cell_type": "code",
   "execution_count": 8,
   "metadata": {
    "scrolled": true
   },
   "outputs": [
    {
     "name": "stdout",
     "output_type": "stream",
     "text": [
      "Hello\n"
     ]
    }
   ],
   "source": [
    "def print_string(my_string):\n",
    "    print(my_string)\n",
    "    return\n",
    "\n",
    "test_string = 'Hello'\n",
    "# Needs to pass the argument to the function else it will give error\n",
    "print_string(test_string)     "
   ]
  },
  {
   "cell_type": "markdown",
   "metadata": {},
   "source": [
    "If no argument is passed to the function print_string then the Python interpreter will give error like shown below"
   ]
  },
  {
   "cell_type": "code",
   "execution_count": 9,
   "metadata": {
    "scrolled": true
   },
   "outputs": [
    {
     "ename": "TypeError",
     "evalue": "print_string() missing 1 required positional argument: 'my_string'",
     "output_type": "error",
     "traceback": [
      "\u001b[1;31m---------------------------------------------------------------------------\u001b[0m",
      "\u001b[1;31mTypeError\u001b[0m                                 Traceback (most recent call last)",
      "\u001b[1;32m<ipython-input-9-c23e0a8415d7>\u001b[0m in \u001b[0;36m<module>\u001b[1;34m\u001b[0m\n\u001b[1;32m----> 1\u001b[1;33m \u001b[0mprint_string\u001b[0m\u001b[1;33m(\u001b[0m\u001b[1;33m)\u001b[0m\u001b[1;33m\u001b[0m\u001b[0m\n\u001b[0m",
      "\u001b[1;31mTypeError\u001b[0m: print_string() missing 1 required positional argument: 'my_string'"
     ]
    }
   ],
   "source": [
    "print_string()    "
   ]
  },
  {
   "cell_type": "markdown",
   "metadata": {},
   "source": [
    "#### 4.2) Keyword Arguments"
   ]
  },
  {
   "cell_type": "code",
   "execution_count": 10,
   "metadata": {},
   "outputs": [
    {
     "name": "stdout",
     "output_type": "stream",
     "text": [
      "Hello World!\n"
     ]
    }
   ],
   "source": [
    "def print_string(my_string):\n",
    "    print(my_string)\n",
    "    return\n",
    "\n",
    "test_string = 'Hello World!'\n",
    "print_string(my_string=test_string)"
   ]
  },
  {
   "cell_type": "markdown",
   "metadata": {},
   "source": [
    "Example 2 which is more clear"
   ]
  },
  {
   "cell_type": "code",
   "execution_count": 11,
   "metadata": {},
   "outputs": [
    {
     "name": "stdout",
     "output_type": "stream",
     "text": [
      "Name is:  Mikki\n",
      "Age is:  30\n"
     ]
    }
   ],
   "source": [
    "def print_info(name, age):\n",
    "    print('Name is: ', name)\n",
    "    print('Age is: ', age)\n",
    "    return\n",
    "\n",
    "print_info(name='Mikki', age=30)"
   ]
  },
  {
   "cell_type": "code",
   "execution_count": 12,
   "metadata": {},
   "outputs": [
    {
     "name": "stdout",
     "output_type": "stream",
     "text": [
      "Name is:  Mikki\n",
      "Age is:  30\n"
     ]
    }
   ],
   "source": [
    "print_info(age=30, name='Mikki')"
   ]
  },
  {
   "cell_type": "markdown",
   "metadata": {},
   "source": [
    "#### 4.3) Default Arguments"
   ]
  },
  {
   "cell_type": "code",
   "execution_count": 17,
   "metadata": {},
   "outputs": [
    {
     "name": "stdout",
     "output_type": "stream",
     "text": [
      "Name is:  Mikki\n",
      "Age is:  50\n"
     ]
    }
   ],
   "source": [
    "def print_info(name, age=30):\n",
    "    'This function prints info'\n",
    "    print('Name is: ', name)\n",
    "    print('Age is: ', age)\n",
    "    return\n",
    "\n",
    "print_info('Mikki', 50)"
   ]
  },
  {
   "cell_type": "markdown",
   "metadata": {},
   "source": [
    "<b>If non-default argument follows Default argument then the Python interpreter will produce error messafe as shown below.</b>"
   ]
  },
  {
   "cell_type": "code",
   "execution_count": 16,
   "metadata": {},
   "outputs": [
    {
     "ename": "SyntaxError",
     "evalue": "non-default argument follows default argument (<ipython-input-16-9808baeab205>, line 1)",
     "output_type": "error",
     "traceback": [
      "\u001b[1;36m  File \u001b[1;32m\"<ipython-input-16-9808baeab205>\"\u001b[1;36m, line \u001b[1;32m1\u001b[0m\n\u001b[1;33m    def print_info(age=30, name):\u001b[0m\n\u001b[1;37m                  ^\u001b[0m\n\u001b[1;31mSyntaxError\u001b[0m\u001b[1;31m:\u001b[0m non-default argument follows default argument\n"
     ]
    }
   ],
   "source": [
    "def print_info(age=30, name):\n",
    "    'This function prints info'\n",
    "    print('Name is: ', name)\n",
    "    print('Age is: ', age)\n",
    "    return\n",
    "\n",
    "print_info('Mikki', 50)"
   ]
  },
  {
   "cell_type": "markdown",
   "metadata": {},
   "source": [
    "#### 4.4) Variable Length Arguments\n",
    "#### Example 1"
   ]
  },
  {
   "cell_type": "code",
   "execution_count": 22,
   "metadata": {},
   "outputs": [
    {
     "name": "stdout",
     "output_type": "stream",
     "text": [
      "Output is:\n",
      "50\n",
      "Output is:\n",
      "70\n",
      "80\n",
      "90\n"
     ]
    }
   ],
   "source": [
    "def print_info(*variable_tuple):\n",
    "    \n",
    "    \n",
    "    # This will print every element in the variable_tuple\n",
    "    print('Output is:')\n",
    "    for var in variable_tuple:\n",
    "        print(var)\n",
    "    \n",
    "    return\n",
    "\n",
    "print_info(50)\n",
    "print_info(70, 80, 90)"
   ]
  },
  {
   "cell_type": "markdown",
   "metadata": {},
   "source": [
    "#### Example 2"
   ]
  },
  {
   "cell_type": "code",
   "execution_count": 23,
   "metadata": {},
   "outputs": [],
   "source": [
    "def print_names(*names):\n",
    "    'This function print all names'\n",
    "    \n",
    "    print('Names are: ')\n",
    "    for name in names:\n",
    "        print(name)\n",
    "    \n",
    "    return \n"
   ]
  },
  {
   "cell_type": "code",
   "execution_count": 24,
   "metadata": {},
   "outputs": [
    {
     "name": "stdout",
     "output_type": "stream",
     "text": [
      "Names are: \n",
      "John\n",
      "Mike\n",
      "Mikki\n"
     ]
    }
   ],
   "source": [
    "print_names('John', 'Mike', 'Mikki')"
   ]
  },
  {
   "cell_type": "code",
   "execution_count": 25,
   "metadata": {
    "scrolled": true
   },
   "outputs": [
    {
     "name": "stdout",
     "output_type": "stream",
     "text": [
      "Names are: \n",
      "David\n",
      "Smith\n",
      "Nick\n",
      "John\n"
     ]
    }
   ],
   "source": [
    "print_names('David', 'Smith', 'Nick', 'John')"
   ]
  },
  {
   "cell_type": "markdown",
   "metadata": {},
   "source": [
    "### 5) Practice Questions ans Solution"
   ]
  },
  {
   "cell_type": "markdown",
   "metadata": {},
   "source": [
    "<b>Question 1</b>: Write a function to find max of two numbers. Pass the two numbers as Required arguments to the function."
   ]
  },
  {
   "cell_type": "code",
   "execution_count": 2,
   "metadata": {},
   "outputs": [
    {
     "name": "stdout",
     "output_type": "stream",
     "text": [
      "Max is 20\n"
     ]
    }
   ],
   "source": [
    "def max_three_numbers(x, y):\n",
    "    if x > y:\n",
    "        print('Max is: ', x)\n",
    "    elif y > x:\n",
    "        print('Max is', y)\n",
    "    else:\n",
    "        print('Both are equal and value is: ', x)\n",
    "    return\n",
    "\n",
    "max_three_numbers(10, 20)"
   ]
  },
  {
   "cell_type": "markdown",
   "metadata": {},
   "source": [
    "<b>Question 2</b>: Write a Python function to sum all the elements of any number of lists. Pass any number of lists to the function."
   ]
  },
  {
   "cell_type": "code",
   "execution_count": 1,
   "metadata": {},
   "outputs": [
    {
     "name": "stdout",
     "output_type": "stream",
     "text": [
      "Sum is:  19\n"
     ]
    }
   ],
   "source": [
    "def find_sum(*all_lists):\n",
    "    'This will summ all the elements of all lists'\n",
    "    \n",
    "    # Initialize the variable sum to 0\n",
    "    sum = 0\n",
    "    \n",
    "    # This loop will iterate the lists\n",
    "    for l in all_lists:\n",
    "        \n",
    "        # This loop will iterated eaach element in the list\n",
    "        for element in l:\n",
    "            \n",
    "            # This will add every value to variable sum\n",
    "            sum += element\n",
    "    print('Sum is: ', sum)\n",
    "    return\n",
    "\n",
    "\n",
    "\n",
    "# You can pass any number of lists\n",
    "find_sum([1, 2, 3, 4], [2, 3, 4])"
   ]
  },
  {
   "cell_type": "code",
   "execution_count": 2,
   "metadata": {},
   "outputs": [
    {
     "name": "stdout",
     "output_type": "stream",
     "text": [
      "Sum is:  1385\n"
     ]
    }
   ],
   "source": [
    "# Function will print sum of all elements irrespective of the number of lists and number of elements in lists.\n",
    "find_sum([20, 30, 10], [1, 2, 3, 4, 5], [110, 100, 200, 400, 500])  "
   ]
  },
  {
   "cell_type": "markdown",
   "metadata": {},
   "source": [
    "<b>Question 3:</b> Write a Python function to check if the given number is even or not. Take the keyword name of the parameter as is_even."
   ]
  },
  {
   "cell_type": "code",
   "execution_count": 4,
   "metadata": {},
   "outputs": [
    {
     "name": "stdout",
     "output_type": "stream",
     "text": [
      "Given number is even\n"
     ]
    }
   ],
   "source": [
    "def check_if_even(num=2):\n",
    "    if num % 2 == 0:\n",
    "        print('Given number is even')\n",
    "    else:\n",
    "        print('Given number is not even')\n",
    "    return\n",
    "\n",
    "\n",
    "check_if_even(num=10)"
   ]
  },
  {
   "cell_type": "code",
   "execution_count": 5,
   "metadata": {},
   "outputs": [
    {
     "name": "stdout",
     "output_type": "stream",
     "text": [
      "Given number is not even\n"
     ]
    }
   ],
   "source": [
    "check_if_even(num=19)"
   ]
  },
  {
   "cell_type": "markdown",
   "metadata": {},
   "source": [
    "<b>Question 4</b> Write a Python function which takes a list and returns a list with unique elements of the first list."
   ]
  },
  {
   "cell_type": "code",
   "execution_count": 7,
   "metadata": {},
   "outputs": [
    {
     "name": "stdout",
     "output_type": "stream",
     "text": [
      "[1, 2, 3, 4, 5]\n"
     ]
    }
   ],
   "source": [
    "def find_unique_elements(my_list):\n",
    "    'This will find unique elements present in the list'\n",
    "    \n",
    "    # Initialse an empty list\n",
    "    unique_elements = []\n",
    "    \n",
    "    # Iterate over each element in the list\n",
    "    for element in my_list:\n",
    "        \n",
    "        # Check if element is present in the list. \n",
    "        # If not then go ahead\n",
    "        if element not in unique_elements:\n",
    "            \n",
    "            # appends the element in the unique_elements list\n",
    "            unique_elements.append(element)\n",
    "    \n",
    "    print(unique_elements)\n",
    "    return\n",
    "\n",
    "\n",
    "# Calling the function\n",
    "find_unique_elements([1,1,2,3,3,3,4,4,5,5,5,5])"
   ]
  },
  {
   "cell_type": "markdown",
   "metadata": {},
   "source": [
    "<b>Question 5</b> Write a Python Function which takes a list as parameter and prints all the even numbers in the list."
   ]
  },
  {
   "cell_type": "code",
   "execution_count": 2,
   "metadata": {},
   "outputs": [
    {
     "name": "stdout",
     "output_type": "stream",
     "text": [
      "Even numbers are:  [2, 4, 6, 8, 10]\n"
     ]
    }
   ],
   "source": [
    "def get_even_numbers(my_list):\n",
    "    'This will take only even number from the list'\n",
    "    \n",
    "    # Take an empty list which will store even numbers\n",
    "    even_number_list = []\n",
    "    \n",
    "    # Iterate over each element in the list\n",
    "    for element in my_list:\n",
    "        \n",
    "        # check if it is divisible by 2\n",
    "        if element % 2 == 0:\n",
    "            \n",
    "            # append the element in the even number list\n",
    "            even_number_list.append(element)\n",
    "            \n",
    "            \n",
    "    print('Even numbers are: ', even_number_list)\n",
    "    return\n",
    "\n",
    "\n",
    "get_even_numbers([1,2,3,4,5,6,7,8,9,10])"
   ]
  },
  {
   "cell_type": "markdown",
   "metadata": {},
   "source": [
    "<b>Question 6:</b> Write a Python function which takes length and breadth as input and prints the area and perimeter of Rectangle. Take the default value of breadth as 10 units."
   ]
  },
  {
   "cell_type": "code",
   "execution_count": 3,
   "metadata": {},
   "outputs": [
    {
     "name": "stdout",
     "output_type": "stream",
     "text": [
      "Area of Rectangle:  300\n",
      "Perimeter of Rectangle:  70\n"
     ]
    }
   ],
   "source": [
    "def find_area_perimeter(length, breadth=10):\n",
    "    ''' This function will find the area\n",
    "       and perimeter of Rectangle '''\n",
    "    \n",
    "    area = length * breadth\n",
    "    perimeter = 2*(length + breadth)\n",
    "    print('Area of Rectangle: ', area)\n",
    "    print('Perimeter of Rectangle: ', perimeter)\n",
    "    return\n",
    "\n",
    "find_area_perimeter(15, 20)"
   ]
  },
  {
   "cell_type": "code",
   "execution_count": 4,
   "metadata": {},
   "outputs": [
    {
     "name": "stdout",
     "output_type": "stream",
     "text": [
      "Area of Rectangle:  150\n",
      "Perimeter of Rectangle:  50\n"
     ]
    }
   ],
   "source": [
    "find_area_perimeter(15)"
   ]
  },
  {
   "cell_type": "markdown",
   "metadata": {},
   "source": [
    "<b>Question 7:</b> Write a Python function to tell user if he/she is able to cast a vote or not. (Considering the minimum age of voting to be 18). The function takes age of person as parameter."
   ]
  },
  {
   "cell_type": "code",
   "execution_count": 6,
   "metadata": {},
   "outputs": [
    {
     "name": "stdout",
     "output_type": "stream",
     "text": [
      "Person can cast vote\n"
     ]
    }
   ],
   "source": [
    "def can_vote_or_not(age):\n",
    "    '''This function will find if a person\n",
    "        can cast vote or not'''\n",
    "    \n",
    "    if age >= 18:\n",
    "        print('Person can cast vote')\n",
    "    else:\n",
    "        print('Person can not cast vote')\n",
    "        \n",
    "    return\n",
    "\n",
    "\n",
    "can_vote_or_not(25)"
   ]
  },
  {
   "attachments": {},
   "cell_type": "markdown",
   "metadata": {},
   "source": [
    "<b> Question 8:</b> Write a Python Function to find the power of a number raised to other. Take the default value of b as 1. The function takes a and b as parameters to it."
   ]
  },
  {
   "cell_type": "code",
   "execution_count": 9,
   "metadata": {},
   "outputs": [
    {
     "name": "stdout",
     "output_type": "stream",
     "text": [
      "Value is:  8\n"
     ]
    }
   ],
   "source": [
    "def find_value(a, b=1):\n",
    "    '''This function finds the power of\n",
    "        a number raised to other'''\n",
    "    \n",
    "    value = a**b\n",
    "    print('Value is: ', value)\n",
    "    return\n",
    "\n",
    "find_value(2, 3)"
   ]
  }
 ],
 "metadata": {
  "kernelspec": {
   "display_name": "Python 3",
   "language": "python",
   "name": "python3"
  },
  "language_info": {
   "codemirror_mode": {
    "name": "ipython",
    "version": 3
   },
   "file_extension": ".py",
   "mimetype": "text/x-python",
   "name": "python",
   "nbconvert_exporter": "python",
   "pygments_lexer": "ipython3",
   "version": "3.6.6"
  }
 },
 "nbformat": 4,
 "nbformat_minor": 2
}
